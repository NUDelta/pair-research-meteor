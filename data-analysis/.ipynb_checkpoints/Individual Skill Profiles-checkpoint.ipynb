{
 "cells": [
  {
   "cell_type": "markdown",
   "metadata": {},
   "source": [
    "# Individual Skill Ratings"
   ]
  },
  {
   "cell_type": "code",
   "execution_count": 30,
   "metadata": {
    "collapsed": true
   },
   "outputs": [],
   "source": [
    "import re\n",
    "import json\n",
    "import numpy as np\n",
    "import pandas as pd\n",
    "import matplotlib as mpl\n",
    "import matplotlib.pyplot as plt\n",
    "\n",
    "df = pd.read_json(path_or_buf=\"output/user_skill_graph-TEST.json\", orient=\"records\")\n",
    "with open(\"pair-app-data/skill-words.json\") as input_file:\n",
    "    words = json.load(input_file)\n",
    "\n",
    "df['categories'] = df['categories'].apply(tuple)\n",
    "new_rows = []\n",
    "for index, row in df.iterrows():\n",
    "    new_rows.extend([[row['helperId'], row['timestamp'], row['task'][0], nn, row['value']] for nn in row.categories])\n",
    "expanded_df = pd.DataFrame(new_rows,columns=['helperId', 'timestamp', 'task', 'category', 'value'])\n",
    "\n",
    "skill_df = pd.read_csv('pair-app-data/skill-poll.csv')"
   ]
  },
  {
   "cell_type": "code",
   "execution_count": 31,
   "metadata": {
    "collapsed": true
   },
   "outputs": [],
   "source": [
    "def grab_user_responses(userId, pair_responses):\n",
    "    user_responses = pair_responses[pair_responses['helperId'] == userId]\n",
    "    return user_responses\n",
    "\n",
    "def calculate_skill_scores(user_response_df):\n",
    "    return user_response_df.groupby('category').mean()\n",
    "\n",
    "def get_skill_scores(userId, pair_responses):\n",
    "    res = grab_user_responses(userId, pair_responses);\n",
    "    skill_df = calculate_skill_scores(res);\n",
    "    return skill_df"
   ]
  },
  {
   "cell_type": "code",
   "execution_count": null,
   "metadata": {
    "collapsed": true
   },
   "outputs": [],
   "source": []
  },
  {
   "cell_type": "code",
   "execution_count": null,
   "metadata": {
    "collapsed": true
   },
   "outputs": [],
   "source": []
  },
  {
   "cell_type": "markdown",
   "metadata": {},
   "source": [
    "---\n",
    "Diff is equal to the (pair research skill - reported skill)\n"
   ]
  },
  {
   "cell_type": "code",
   "execution_count": 32,
   "metadata": {
    "collapsed": true
   },
   "outputs": [],
   "source": [
    "def find_diffs_and_values(userId, pair_responses, skill_responses):\n",
    "    poll_skill_df = skill_df[skill_df[\"userId\"] == userId]\n",
    "    pair_skill_df = get_skill_scores(userId, pair_responses);\n",
    "\n",
    "    transposed_poll_skill_df = poll_skill_df.T\n",
    "    transposed_poll_skill_df.columns = [\"value\"]\n",
    "    transposed_poll_skill_df.index = transposed_poll_skill_df.index.str.lower()\n",
    "    \n",
    "    result = {}\n",
    "    for index, row in pair_skill_df.iterrows():\n",
    "        if index in transposed_poll_skill_df.index:\n",
    "            diff = (pair_skill_df.loc[index].value - transposed_poll_skill_df.loc[index][\"value\"])\n",
    "            result[index] = {}\n",
    "            result[index][\"pairRating\"] = pair_skill_df.loc[index].value\n",
    "            result[index][\"pollRating\"] = transposed_poll_skill_df.loc[index][\"value\"]\n",
    "            result[index][\"diff\"] = diff\n",
    "    \n",
    "    return result\n",
    "\n",
    "\n",
    "\n",
    "def find_diffs(userId, pair_responses, skill_responses):\n",
    "    poll_skill_df = skill_df[skill_df[\"userId\"] == userId]\n",
    "    pair_skill_df = get_skill_scores(userId, pair_responses);\n",
    "\n",
    "    transposed_poll_skill_df = poll_skill_df.T\n",
    "    transposed_poll_skill_df.columns = [\"value\"]\n",
    "    transposed_poll_skill_df.index = transposed_poll_skill_df.index.str.lower()\n",
    "    \n",
    "    result = {}\n",
    "    result[\"userId\"] = userId\n",
    "    for index, row in pair_skill_df.iterrows():\n",
    "        if index in transposed_poll_skill_df.index:\n",
    "            diff = (pair_skill_df.loc[index].value - transposed_poll_skill_df.loc[index][\"value\"])\n",
    "            result[index] = diff\n",
    "    \n",
    "    return result\n"
   ]
  },
  {
   "cell_type": "code",
   "execution_count": 33,
   "metadata": {},
   "outputs": [
    {
     "data": {
      "text/plain": [
       "{u'algorithms': 0.0,\n",
       " u'brainstorming': -1.0,\n",
       " u'data analysis': -1.0,\n",
       " u'debugging': 1.0,\n",
       " u'dev tools': -1.3333333333333333,\n",
       " u'feedback': 1.0,\n",
       " u'general tech': -0.5,\n",
       " u'grants': 0.0,\n",
       " u'interaction design': 0.0,\n",
       " u'prototype testing': 0.5,\n",
       " u'research direction': -1.2000000000000002,\n",
       " u'study design': 0.5,\n",
       " u'ui/ux design': -0.5,\n",
       " 'userId': 'u6DrqFSvdZnWDgjz8',\n",
       " u'web/mobile dev': -2.2999999999999998}"
      ]
     },
     "execution_count": 33,
     "metadata": {},
     "output_type": "execute_result"
    }
   ],
   "source": [
    "find_diffs(\"u6DrqFSvdZnWDgjz8\", expanded_df, skill_df)"
   ]
  },
  {
   "cell_type": "code",
   "execution_count": 34,
   "metadata": {},
   "outputs": [
    {
     "data": {
      "text/plain": [
       "[{u'algorithms': -3.0,\n",
       "  u'brainstorming': -2.1000000000000001,\n",
       "  u'data analysis': -1.0,\n",
       "  u'debugging': 0.0,\n",
       "  u'dev tools': 0.83333333333333348,\n",
       "  u'feedback': -1.6000000000000001,\n",
       "  u'general tech': -2.0,\n",
       "  u'grants': 0.92857142857142838,\n",
       "  u'interaction design': -1.6666666666666665,\n",
       "  u'pair programming': -1.0,\n",
       "  u'prototype testing': -1.6666666666666665,\n",
       "  u'related work': 2.0,\n",
       "  u'research direction': 0.75,\n",
       "  u'study design': 0.75,\n",
       "  u'ui/ux design': -1.8999999999999999,\n",
       "  'userId': 'dZ23LYG2G42mY3NAf',\n",
       "  u'web/mobile dev': -1.5714285714285716},\n",
       " {u'algorithms': 0.0,\n",
       "  u'brainstorming': -0.92857142857142838,\n",
       "  u'data analysis': -0.5,\n",
       "  u'debugging': -2.0,\n",
       "  u'dev tools': -2.3999999999999999,\n",
       "  u'feedback': -1.1666666666666665,\n",
       "  u'general tech': -2.0,\n",
       "  u'grants': 1.8888888888888888,\n",
       "  u'interaction design': -1.6666666666666665,\n",
       "  u'pair programming': -3.0,\n",
       "  u'prototype testing': -1.0,\n",
       "  u'research direction': -0.29999999999999982,\n",
       "  u'study design': -1.25,\n",
       "  u'ui/ux design': -0.052631578947368585,\n",
       "  'userId': 'mdhFQ6PNiAhfP7ce2',\n",
       "  u'web/mobile dev': -1.8888888888888888},\n",
       " {u'algorithms': 3.0,\n",
       "  u'brainstorming': 1.5454545454545454,\n",
       "  u'data analysis': 1.6000000000000001,\n",
       "  u'debugging': 0.0,\n",
       "  u'dev tools': 1.8888888888888888,\n",
       "  u'feedback': 1.0,\n",
       "  u'general tech': 0.0,\n",
       "  u'grants': 1.9230769230769229,\n",
       "  u'interaction design': 0.66666666666666652,\n",
       "  u'pair programming': 1.0,\n",
       "  u'prototype testing': 0.26666666666666661,\n",
       "  u'research direction': 1.1052631578947367,\n",
       "  u'study design': -0.75,\n",
       "  u'ui/ux design': 1.4761904761904763,\n",
       "  'userId': 'WenRzs2SSx8YmGYsF',\n",
       "  u'web/mobile dev': 1.0882352941176472},\n",
       " {'userId': '6Yv3ARWJQMWtFKgnN'},\n",
       " {u'algorithms': 1.0,\n",
       "  u'brainstorming': 0.25,\n",
       "  u'data analysis': 2.0,\n",
       "  u'debugging': 0.0,\n",
       "  u'dev tools': -1.0,\n",
       "  u'feedback': -0.75,\n",
       "  u'general tech': -1.3333333333333335,\n",
       "  u'grants': -0.66666666666666674,\n",
       "  u'interaction design': 0.33333333333333348,\n",
       "  u'prototype testing': -1.125,\n",
       "  u'related work': -1.0,\n",
       "  u'research direction': -0.92857142857142838,\n",
       "  u'study design': -1.6666666666666667,\n",
       "  u'ui/ux design': -1.0,\n",
       "  'userId': '6rZbYn3cbQ9KNLRM5',\n",
       "  u'web/mobile dev': -0.81481481481481488},\n",
       " {u'algorithms': 1.0,\n",
       "  u'brainstorming': -0.66666666666666652,\n",
       "  u'data analysis': -0.19999999999999996,\n",
       "  u'debugging': -1.0,\n",
       "  u'dev tools': 0.625,\n",
       "  u'feedback': -1.6666666666666665,\n",
       "  u'general tech': 0.33333333333333348,\n",
       "  u'grants': -0.91666666666666652,\n",
       "  u'interaction design': -1.3333333333333335,\n",
       "  u'pair programming': -2.0,\n",
       "  u'prototype testing': -1.0,\n",
       "  u'related work': 0.0,\n",
       "  u'research direction': -1.2400000000000002,\n",
       "  u'study design': 0.42857142857142838,\n",
       "  u'ui/ux design': -1.5833333333333335,\n",
       "  'userId': 'N3LsK5NJeKm8PkBx8',\n",
       "  u'web/mobile dev': -0.29729729729729737},\n",
       " {u'algorithms': 0.0,\n",
       "  u'brainstorming': -1.0,\n",
       "  u'data analysis': -1.0,\n",
       "  u'debugging': 1.0,\n",
       "  u'dev tools': -1.3333333333333333,\n",
       "  u'feedback': 1.0,\n",
       "  u'general tech': -0.5,\n",
       "  u'grants': 0.0,\n",
       "  u'interaction design': 0.0,\n",
       "  u'prototype testing': 0.5,\n",
       "  u'research direction': -1.2000000000000002,\n",
       "  u'study design': 0.5,\n",
       "  u'ui/ux design': -0.5,\n",
       "  'userId': 'u6DrqFSvdZnWDgjz8',\n",
       "  u'web/mobile dev': -2.2999999999999998},\n",
       " {u'brainstorming': -0.20000000000000018,\n",
       "  u'debugging': 0.0,\n",
       "  u'dev tools': 1.3333333333333335,\n",
       "  u'feedback': 1.666666666666667,\n",
       "  u'general tech': -1.0,\n",
       "  u'grants': 2.125,\n",
       "  u'interaction design': 1.6666666666666665,\n",
       "  u'pair programming': -2.0,\n",
       "  u'prototype testing': 0.0,\n",
       "  u'related work': 2.0,\n",
       "  u'research direction': 1.6666666666666665,\n",
       "  u'study design': 1.5,\n",
       "  u'ui/ux design': 1.3999999999999999,\n",
       "  'userId': '9zFPYRJQ5KnGTcnMr',\n",
       "  u'web/mobile dev': 1.4166666666666665},\n",
       " {'userId': '9gcjpT4daYZmZDi2F'},\n",
       " {u'algorithms': 0.0,\n",
       "  u'brainstorming': 0.5,\n",
       "  u'data analysis': 2.0,\n",
       "  u'debugging': -1.0,\n",
       "  u'dev tools': -2.0,\n",
       "  u'feedback': -2.2000000000000002,\n",
       "  u'general tech': 1.0,\n",
       "  u'grants': -0.8666666666666667,\n",
       "  u'interaction design': 0.0,\n",
       "  u'pair programming': 1.0,\n",
       "  u'prototype testing': -1.2142857142857144,\n",
       "  u'related work': -1.0,\n",
       "  u'research direction': 0.42857142857142838,\n",
       "  u'study design': 0.42857142857142838,\n",
       "  u'ui/ux design': -1.0,\n",
       "  'userId': 'nDHZGzczDWyqvyFhp',\n",
       "  u'web/mobile dev': -0.83333333333333348},\n",
       " {'userId': 'sM3z5FkZfsABqcj3g'},\n",
       " {u'algorithms': 0.0,\n",
       "  u'brainstorming': -1.25,\n",
       "  u'data analysis': -1.0,\n",
       "  u'dev tools': 0.5,\n",
       "  u'feedback': -1.0,\n",
       "  u'general tech': 0.0,\n",
       "  u'grants': -0.66666666666666652,\n",
       "  u'interaction design': -1.0,\n",
       "  u'prototype testing': -1.25,\n",
       "  u'research direction': -1.1538461538461537,\n",
       "  u'study design': -0.60000000000000009,\n",
       "  u'ui/ux design': -1.0,\n",
       "  'userId': 'aNdSTecskgeAm2St5',\n",
       "  u'web/mobile dev': -0.81481481481481488},\n",
       " {u'algorithms': -2.0,\n",
       "  u'brainstorming': -2.25,\n",
       "  u'data analysis': -3.0,\n",
       "  u'debugging': -2.0,\n",
       "  u'dev tools': 0.28571428571428559,\n",
       "  u'feedback': -1.6666666666666665,\n",
       "  u'general tech': -2.0,\n",
       "  u'grants': -0.46153846153846168,\n",
       "  u'interaction design': -1.6666666666666665,\n",
       "  u'pair programming': -2.0,\n",
       "  u'prototype testing': -1.3636363636363638,\n",
       "  u'related work': 1.0,\n",
       "  u'research direction': -0.10000000000000009,\n",
       "  u'study design': 0.5,\n",
       "  u'ui/ux design': -1.3333333333333335,\n",
       "  'userId': 'afyZT6q2HepoCS76m',\n",
       "  u'web/mobile dev': -1.4500000000000002},\n",
       " {u'algorithms': 0.0,\n",
       "  u'brainstorming': 0.0,\n",
       "  u'data analysis': -1.0,\n",
       "  u'debugging': -3.0,\n",
       "  u'dev tools': -0.16666666666666652,\n",
       "  u'feedback': 0.20000000000000018,\n",
       "  u'general tech': 1.0,\n",
       "  u'grants': -0.69230769230769251,\n",
       "  u'interaction design': -1.0,\n",
       "  u'pair programming': -3.0,\n",
       "  u'prototype testing': -0.46153846153846168,\n",
       "  u'related work': 1.0,\n",
       "  u'research direction': 0.58333333333333348,\n",
       "  u'study design': 1.0,\n",
       "  u'ui/ux design': -1.3500000000000001,\n",
       "  'userId': 'yLoAP6fd9WbQQPyhb',\n",
       "  u'web/mobile dev': -1.1428571428571428},\n",
       " {u'algorithms': -1.0,\n",
       "  u'brainstorming': -1.1428571428571428,\n",
       "  u'data analysis': -1.0,\n",
       "  u'debugging': -1.0,\n",
       "  u'dev tools': 1.25,\n",
       "  u'feedback': -2.0,\n",
       "  u'general tech': 0.33333333333333348,\n",
       "  u'grants': -0.77777777777777768,\n",
       "  u'interaction design': 0.33333333333333304,\n",
       "  u'pair programming': -2.0,\n",
       "  u'prototype testing': -0.81818181818181834,\n",
       "  u'research direction': -1.9230769230769229,\n",
       "  u'study design': 0.0,\n",
       "  u'ui/ux design': -1.0,\n",
       "  'userId': 'XjH8WJxEXFgTwdi3o',\n",
       "  u'web/mobile dev': -1.7999999999999998},\n",
       " {u'algorithms': 0.0,\n",
       "  u'brainstorming': -1.0,\n",
       "  u'data analysis': -3.0,\n",
       "  u'debugging': 1.0,\n",
       "  u'dev tools': 0.60000000000000009,\n",
       "  u'feedback': -0.25,\n",
       "  u'general tech': 0.0,\n",
       "  u'grants': 0.88888888888888884,\n",
       "  u'interaction design': 2.0,\n",
       "  u'pair programming': -3.0,\n",
       "  u'prototype testing': -0.75,\n",
       "  u'related work': 3.0,\n",
       "  u'research direction': -0.81818181818181834,\n",
       "  u'study design': 1.1666666666666665,\n",
       "  u'ui/ux design': -0.64285714285714279,\n",
       "  'userId': 'aupdNzYu8WmNEi4e5',\n",
       "  u'web/mobile dev': -1.7142857142857144}]"
      ]
     },
     "execution_count": 34,
     "metadata": {},
     "output_type": "execute_result"
    }
   ],
   "source": [
    "userIds = list(skill_df['userId'])\n",
    "heatMapList = []\n",
    "for userId in userIds:\n",
    "    res = find_diffs(userId, expanded_df, skill_df)\n",
    "    heatMapList.append(res);\n",
    "heatMapList"
   ]
  },
  {
   "cell_type": "code",
   "execution_count": 35,
   "metadata": {},
   "outputs": [
    {
     "data": {
      "text/plain": [
       "nan"
      ]
     },
     "execution_count": 35,
     "metadata": {},
     "output_type": "execute_result"
    }
   ],
   "source": [
    "heatMapDf = pd.DataFrame(heatMapList)\n",
    "heatMapDf = heatMapDf.set_index(['userId'])\n",
    "heatMapDf = heatMapDf[np.isfinite(heatMapDf['grants'])]\n",
    "heatMapDf.values.max()"
   ]
  },
  {
   "cell_type": "code",
   "execution_count": 36,
   "metadata": {
    "collapsed": true
   },
   "outputs": [],
   "source": [
    "def heatmap(df,\n",
    "            edgecolors='w',\n",
    "            cmap=mpl.cm.RdBu,\n",
    "            log=False,vmin=0,vmax=500):    \n",
    "    width = len(df.columns)/4\n",
    "    height = len(df.index)/4\n",
    "    \n",
    "    fig, ax = plt.subplots(figsize=(width,height))\n",
    "      \n",
    "    heatmap = ax.pcolor(df,\n",
    "                        edgecolors=edgecolors,  # put white lines between squares in heatmap\n",
    "                        cmap=cmap,\n",
    "                        vmin=vmin, # defaults to 0\n",
    "                        vmax=vmax, # defaults to 500\n",
    "                        norm=mpl.colors.LogNorm() if log else None)\n",
    "    \n",
    "    ax.autoscale(tight=True)  # get rid of whitespace in margins of heatmap\n",
    "    ax.set_aspect('equal')  # ensure heatmap cells are square\n",
    "    ax.xaxis.set_ticks_position('top')  # put column labels at the top\n",
    "    ax.tick_params(bottom='off', top='off', left='off', right='off')  # turn off ticks\n",
    "    \n",
    "    plt.yticks(np.arange(len(df.index)) + 0.5, df.index)\n",
    "    plt.xticks(np.arange(len(df.columns)) + 0.5, df.columns, rotation=90)\n",
    "    \n",
    "    # ugliness from http://matplotlib.org/users/tight_layout_guide.html\n",
    "    from mpl_toolkits.axes_grid1 import make_axes_locatable\n",
    "    divider = make_axes_locatable(ax)\n",
    "    cax = divider.append_axes(\"right\", \"3%\", pad=\"1%\")\n",
    "    plt.colorbar(heatmap, cax=cax)\n",
    "    return fig"
   ]
  },
  {
   "cell_type": "code",
   "execution_count": 37,
   "metadata": {},
   "outputs": [
    {
     "data": {
      "image/png": "[encoded data removed]",
      "text/plain": [
       "<matplotlib.figure.Figure at 0x109435fd0>"
      ]
     },
     "execution_count": 37,
     "metadata": {},
     "output_type": "execute_result"
    }
   ],
   "source": [
    "heatmap(heatMapDf, vmin=-5, vmax=5)"
   ]
  },
  {
   "cell_type": "markdown",
   "metadata": {},
   "source": [
    "Diff is equal to the (pair research skill - reported skill). Most people seem to rate themselves higher than they do within the Pair Research Tool"
   ]
  },
  {
   "cell_type": "code",
   "execution_count": 38,
   "metadata": {},
   "outputs": [
    {
     "data": {
      "text/html": [
       "<div>\n",
       "<table border=\"1\" class=\"dataframe\">\n",
       "  <thead>\n",
       "    <tr style=\"text-align: right;\">\n",
       "      <th></th>\n",
       "      <th>algorithms</th>\n",
       "      <th>brainstorming</th>\n",
       "      <th>data analysis</th>\n",
       "      <th>debugging</th>\n",
       "      <th>dev tools</th>\n",
       "      <th>feedback</th>\n",
       "      <th>general tech</th>\n",
       "      <th>grants</th>\n",
       "      <th>interaction design</th>\n",
       "      <th>pair programming</th>\n",
       "      <th>prototype testing</th>\n",
       "      <th>related work</th>\n",
       "      <th>research direction</th>\n",
       "      <th>study design</th>\n",
       "      <th>ui/ux design</th>\n",
       "      <th>web/mobile dev</th>\n",
       "    </tr>\n",
       "  </thead>\n",
       "  <tbody>\n",
       "    <tr>\n",
       "      <th>count</th>\n",
       "      <td>12.000000</td>\n",
       "      <td>13.000000</td>\n",
       "      <td>12.000000</td>\n",
       "      <td>12.000000</td>\n",
       "      <td>13.000000</td>\n",
       "      <td>13.000000</td>\n",
       "      <td>13.000000</td>\n",
       "      <td>13.000000</td>\n",
       "      <td>13.000000</td>\n",
       "      <td>10.000000</td>\n",
       "      <td>13.000000</td>\n",
       "      <td>8.000000</td>\n",
       "      <td>13.000000</td>\n",
       "      <td>13.000000</td>\n",
       "      <td>13.000000</td>\n",
       "      <td>13.000000</td>\n",
       "    </tr>\n",
       "    <tr>\n",
       "      <th>mean</th>\n",
       "      <td>-0.083333</td>\n",
       "      <td>-0.634049</td>\n",
       "      <td>-0.508333</td>\n",
       "      <td>-0.666667</td>\n",
       "      <td>0.032021</td>\n",
       "      <td>-0.648718</td>\n",
       "      <td>-0.474359</td>\n",
       "      <td>0.208164</td>\n",
       "      <td>-0.256410</td>\n",
       "      <td>-1.600000</td>\n",
       "      <td>-0.760203</td>\n",
       "      <td>0.875000</td>\n",
       "      <td>-0.240757</td>\n",
       "      <td>0.154396</td>\n",
       "      <td>-0.652767</td>\n",
       "      <td>-0.932525</td>\n",
       "    </tr>\n",
       "    <tr>\n",
       "      <th>std</th>\n",
       "      <td>1.505042</td>\n",
       "      <td>1.047318</td>\n",
       "      <td>1.671939</td>\n",
       "      <td>1.230915</td>\n",
       "      <td>1.330323</td>\n",
       "      <td>1.267826</td>\n",
       "      <td>1.092581</td>\n",
       "      <td>1.177863</td>\n",
       "      <td>1.248361</td>\n",
       "      <td>1.505545</td>\n",
       "      <td>0.657846</td>\n",
       "      <td>1.457738</td>\n",
       "      <td>1.079010</td>\n",
       "      <td>0.957159</td>\n",
       "      <td>1.040154</td>\n",
       "      <td>1.114740</td>\n",
       "    </tr>\n",
       "    <tr>\n",
       "      <th>min</th>\n",
       "      <td>-3.000000</td>\n",
       "      <td>-2.250000</td>\n",
       "      <td>-3.000000</td>\n",
       "      <td>-3.000000</td>\n",
       "      <td>-2.400000</td>\n",
       "      <td>-2.200000</td>\n",
       "      <td>-2.000000</td>\n",
       "      <td>-0.916667</td>\n",
       "      <td>-1.666667</td>\n",
       "      <td>-3.000000</td>\n",
       "      <td>-1.666667</td>\n",
       "      <td>-1.000000</td>\n",
       "      <td>-1.923077</td>\n",
       "      <td>-1.666667</td>\n",
       "      <td>-1.900000</td>\n",
       "      <td>-2.300000</td>\n",
       "    </tr>\n",
       "    <tr>\n",
       "      <th>25%</th>\n",
       "      <td>-0.250000</td>\n",
       "      <td>-1.142857</td>\n",
       "      <td>-1.000000</td>\n",
       "      <td>-1.250000</td>\n",
       "      <td>-1.000000</td>\n",
       "      <td>-1.666667</td>\n",
       "      <td>-1.333333</td>\n",
       "      <td>-0.692308</td>\n",
       "      <td>-1.333333</td>\n",
       "      <td>-2.750000</td>\n",
       "      <td>-1.214286</td>\n",
       "      <td>-0.250000</td>\n",
       "      <td>-1.153846</td>\n",
       "      <td>-0.600000</td>\n",
       "      <td>-1.333333</td>\n",
       "      <td>-1.714286</td>\n",
       "    </tr>\n",
       "    <tr>\n",
       "      <th>50%</th>\n",
       "      <td>0.000000</td>\n",
       "      <td>-0.928571</td>\n",
       "      <td>-1.000000</td>\n",
       "      <td>-0.500000</td>\n",
       "      <td>0.500000</td>\n",
       "      <td>-1.000000</td>\n",
       "      <td>0.000000</td>\n",
       "      <td>-0.461538</td>\n",
       "      <td>0.000000</td>\n",
       "      <td>-2.000000</td>\n",
       "      <td>-1.000000</td>\n",
       "      <td>1.000000</td>\n",
       "      <td>-0.300000</td>\n",
       "      <td>0.428571</td>\n",
       "      <td>-1.000000</td>\n",
       "      <td>-1.142857</td>\n",
       "    </tr>\n",
       "    <tr>\n",
       "      <th>75%</th>\n",
       "      <td>0.250000</td>\n",
       "      <td>0.000000</td>\n",
       "      <td>0.250000</td>\n",
       "      <td>0.000000</td>\n",
       "      <td>0.833333</td>\n",
       "      <td>0.200000</td>\n",
       "      <td>0.333333</td>\n",
       "      <td>0.928571</td>\n",
       "      <td>0.333333</td>\n",
       "      <td>-1.250000</td>\n",
       "      <td>-0.461538</td>\n",
       "      <td>2.000000</td>\n",
       "      <td>0.583333</td>\n",
       "      <td>0.750000</td>\n",
       "      <td>-0.500000</td>\n",
       "      <td>-0.814815</td>\n",
       "    </tr>\n",
       "    <tr>\n",
       "      <th>max</th>\n",
       "      <td>3.000000</td>\n",
       "      <td>1.545455</td>\n",
       "      <td>2.000000</td>\n",
       "      <td>1.000000</td>\n",
       "      <td>1.888889</td>\n",
       "      <td>1.666667</td>\n",
       "      <td>1.000000</td>\n",
       "      <td>2.125000</td>\n",
       "      <td>2.000000</td>\n",
       "      <td>1.000000</td>\n",
       "      <td>0.500000</td>\n",
       "      <td>3.000000</td>\n",
       "      <td>1.666667</td>\n",
       "      <td>1.500000</td>\n",
       "      <td>1.476190</td>\n",
       "      <td>1.416667</td>\n",
       "    </tr>\n",
       "  </tbody>\n",
       "</table>\n",
       "</div>"
      ],
      "text/plain": [
       "       algorithms  brainstorming  data analysis  debugging  dev tools  \\\n",
       "count   12.000000      13.000000      12.000000  12.000000  13.000000   \n",
       "mean    -0.083333      -0.634049      -0.508333  -0.666667   0.032021   \n",
       "std      1.505042       1.047318       1.671939   1.230915   1.330323   \n",
       "min     -3.000000      -2.250000      -3.000000  -3.000000  -2.400000   \n",
       "25%     -0.250000      -1.142857      -1.000000  -1.250000  -1.000000   \n",
       "50%      0.000000      -0.928571      -1.000000  -0.500000   0.500000   \n",
       "75%      0.250000       0.000000       0.250000   0.000000   0.833333   \n",
       "max      3.000000       1.545455       2.000000   1.000000   1.888889   \n",
       "\n",
       "        feedback  general tech     grants  interaction design  \\\n",
       "count  13.000000     13.000000  13.000000           13.000000   \n",
       "mean   -0.648718     -0.474359   0.208164           -0.256410   \n",
       "std     1.267826      1.092581   1.177863            1.248361   \n",
       "min    -2.200000     -2.000000  -0.916667           -1.666667   \n",
       "25%    -1.666667     -1.333333  -0.692308           -1.333333   \n",
       "50%    -1.000000      0.000000  -0.461538            0.000000   \n",
       "75%     0.200000      0.333333   0.928571            0.333333   \n",
       "max     1.666667      1.000000   2.125000            2.000000   \n",
       "\n",
       "       pair programming  prototype testing  related work  research direction  \\\n",
       "count         10.000000          13.000000      8.000000           13.000000   \n",
       "mean          -1.600000          -0.760203      0.875000           -0.240757   \n",
       "std            1.505545           0.657846      1.457738            1.079010   \n",
       "min           -3.000000          -1.666667     -1.000000           -1.923077   \n",
       "25%           -2.750000          -1.214286     -0.250000           -1.153846   \n",
       "50%           -2.000000          -1.000000      1.000000           -0.300000   \n",
       "75%           -1.250000          -0.461538      2.000000            0.583333   \n",
       "max            1.000000           0.500000      3.000000            1.666667   \n",
       "\n",
       "       study design  ui/ux design  web/mobile dev  \n",
       "count     13.000000     13.000000       13.000000  \n",
       "mean       0.154396     -0.652767       -0.932525  \n",
       "std        0.957159      1.040154        1.114740  \n",
       "min       -1.666667     -1.900000       -2.300000  \n",
       "25%       -0.600000     -1.333333       -1.714286  \n",
       "50%        0.428571     -1.000000       -1.142857  \n",
       "75%        0.750000     -0.500000       -0.814815  \n",
       "max        1.500000      1.476190        1.416667  "
      ]
     },
     "execution_count": 38,
     "metadata": {},
     "output_type": "execute_result"
    }
   ],
   "source": [
    "heatMapDf.describe()"
   ]
  },
  {
   "cell_type": "code",
   "execution_count": 94,
   "metadata": {
    "scrolled": false
   },
   "outputs": [
    {
     "name": "stdout",
     "output_type": "stream",
     "text": [
      "                    poll     pair\n",
      "algorithms             2        1\n",
      "brainstorming          4      2.9\n",
      "data analysis          5        1\n",
      "debugging              4        2\n",
      "dev tools              2  2.83333\n",
      "feedback               4      3.4\n",
      "general tech           3        1\n",
      "grants                 2  2.92857\n",
      "interaction design     3  3.33333\n",
      "needfinding            3      NaN\n",
      "pair programming       4        2\n",
      "paper writing          4      NaN\n",
      "prototype design     NaN      2.4\n",
      "prototype testing      4  3.33333\n",
      "recruiting             2      NaN\n",
      "related work           1        4\n",
      "research direction     4     2.75\n",
      "study design           1     3.75\n",
      "system architecture    2      NaN\n",
      "ui/ux design           4      3.1\n",
      "user studies           1      NaN\n",
      "web/mobile dev         4  2.42857\n"
     ]
    },
    {
     "data": {
      "image/png": "[encoded data removed]",
      "text/plain": [
       "<matplotlib.figure.Figure at 0x109444c10>"
      ]
     },
     "metadata": {},
     "output_type": "display_data"
    },
    {
     "name": "stdout",
     "output_type": "stream",
     "text": [
      "                    poll     pair\n",
      "algorithms             2        5\n",
      "architecture         NaN        2\n",
      "brainstorming          4  3.07143\n",
      "data analysis          5      4.5\n",
      "debugging              4        3\n",
      "dev tools              2      2.6\n",
      "feedback               4  2.83333\n",
      "general tech           3        3\n",
      "grants                 2  2.88889\n",
      "interaction design     3  2.33333\n",
      "needfinding            3      NaN\n",
      "pair programming       4        2\n",
      "paper writing          4      NaN\n",
      "prototype design     NaN  2.83333\n",
      "prototype testing      4        3\n",
      "recruiting             2      NaN\n",
      "related work           1      NaN\n",
      "research direction     4      2.7\n",
      "study design           1     2.75\n",
      "system architecture    2      NaN\n",
      "ui/ux design           4  2.94737\n",
      "user studies           1      NaN\n",
      "web/mobile dev         4  3.11111\n"
     ]
    },
    {
     "data": {
      "image/png": "[encoded data removed]",
      "text/plain": [
       "<matplotlib.figure.Figure at 0x109cfde90>"
      ]
     },
     "metadata": {},
     "output_type": "display_data"
    },
    {
     "name": "stdout",
     "output_type": "stream",
     "text": [
      "                    poll     pair\n",
      "algorithms             2        4\n",
      "architecture         NaN        3\n",
      "brainstorming          4  3.54545\n",
      "data analysis          5      3.6\n",
      "debugging              4        3\n",
      "dev tools              2  2.88889\n",
      "feedback               4        4\n",
      "general tech           3        3\n",
      "grants                 2  2.92308\n",
      "interaction design     3  2.66667\n",
      "needfinding            3      NaN\n",
      "pair programming       4        4\n",
      "paper writing          4      NaN\n",
      "prototype design     NaN  2.83333\n",
      "prototype testing      4  3.26667\n",
      "recruiting             2      NaN\n",
      "related work           1      NaN\n",
      "research direction     4  3.10526\n",
      "study design           1     2.25\n",
      "system architecture    2      NaN\n",
      "ui/ux design           4  3.47619\n",
      "user studies           1      NaN\n",
      "web/mobile dev         4  3.08824\n"
     ]
    },
    {
     "data": {
      "image/png": "[encoded data removed]",
      "text/plain": [
       "<matplotlib.figure.Figure at 0x10a49d990>"
      ]
     },
     "metadata": {},
     "output_type": "display_data"
    },
    {
     "name": "stdout",
     "output_type": "stream",
     "text": [
      "                    poll pair\n",
      "algorithms             2  NaN\n",
      "brainstorming          4  NaN\n",
      "data analysis          5  NaN\n",
      "debugging              4  NaN\n",
      "dev tools              2  NaN\n",
      "feedback               4  NaN\n",
      "general tech           3  NaN\n",
      "grants                 2  NaN\n",
      "interaction design     3  NaN\n",
      "needfinding            3  NaN\n",
      "pair programming       4  NaN\n",
      "paper writing          4  NaN\n",
      "prototype testing      4  NaN\n",
      "recruiting             2  NaN\n",
      "related work           1  NaN\n",
      "research direction     4  NaN\n",
      "study design           1  NaN\n",
      "system architecture    2  NaN\n",
      "ui/ux design           4  NaN\n",
      "user studies           1  NaN\n",
      "web/mobile dev         4  NaN\n"
     ]
    },
    {
     "data": {
      "image/png": "[encoded data removed]",
      "text/plain": [
       "<matplotlib.figure.Figure at 0x10aa23a50>"
      ]
     },
     "metadata": {},
     "output_type": "display_data"
    },
    {
     "name": "stdout",
     "output_type": "stream",
     "text": [
      "                    poll     pair\n",
      "algorithms             2        4\n",
      "brainstorming          4     3.25\n",
      "data analysis          5        4\n",
      "debugging              4        4\n",
      "dev tools              2        2\n",
      "feedback               4     2.25\n",
      "general tech           3  2.66667\n",
      "grants                 2  1.33333\n",
      "interaction design     3  3.33333\n",
      "needfinding            3      NaN\n",
      "pair programming       4      NaN\n",
      "paper writing          4      NaN\n",
      "prototype design     NaN      2.2\n",
      "prototype testing      4    2.875\n",
      "recruiting             2      NaN\n",
      "related work           1        2\n",
      "research direction     4  2.07143\n",
      "study design           1  1.33333\n",
      "system architecture    2      NaN\n",
      "ui/ux design           4        3\n",
      "user studies           1      NaN\n",
      "web/mobile dev         4  3.18519\n"
     ]
    },
    {
     "data": {
      "image/png": "[encoded data removed]",
      "text/plain": [
       "<matplotlib.figure.Figure at 0x10a6f5550>"
      ]
     },
     "metadata": {},
     "output_type": "display_data"
    },
    {
     "name": "stdout",
     "output_type": "stream",
     "text": [
      "                    poll     pair\n",
      "algorithms             2        3\n",
      "architecture         NaN        3\n",
      "brainstorming          4  3.33333\n",
      "data analysis          5      1.8\n",
      "debugging              4        1\n",
      "dev tools              2    2.625\n",
      "feedback               4  3.33333\n",
      "general tech           3  3.33333\n",
      "grants                 2  3.08333\n",
      "interaction design     3  3.66667\n",
      "needfinding            3      NaN\n",
      "pair programming       4        1\n",
      "paper writing          4      NaN\n",
      "prototype design     NaN  4.28571\n",
      "prototype testing      4        4\n",
      "recruiting             2      NaN\n",
      "related work           1        3\n",
      "research direction     4     2.76\n",
      "study design           1  3.42857\n",
      "system architecture    2      NaN\n",
      "ui/ux design           4  3.41667\n",
      "user studies           1      NaN\n",
      "web/mobile dev         4   2.7027\n"
     ]
    },
    {
     "data": {
      "image/png": "[encoded data removed]",
      "text/plain": [
       "<matplotlib.figure.Figure at 0x10a922f90>"
      ]
     },
     "metadata": {},
     "output_type": "display_data"
    },
    {
     "name": "stdout",
     "output_type": "stream",
     "text": [
      "                    poll     pair\n",
      "algorithms             2        2\n",
      "brainstorming          4        4\n",
      "data analysis          5        2\n",
      "debugging              4        5\n",
      "dev tools              2  1.66667\n",
      "feedback               4        4\n",
      "general tech           3      3.5\n",
      "grants                 2        1\n",
      "interaction design     3        4\n",
      "needfinding            3      NaN\n",
      "pair programming       4      NaN\n",
      "paper writing          4      NaN\n",
      "prototype design     NaN  3.33333\n",
      "prototype testing      4      3.5\n",
      "recruiting             2      NaN\n",
      "related work           1      NaN\n",
      "research direction     4      2.8\n",
      "study design           1      2.5\n",
      "system architecture    2      NaN\n",
      "ui/ux design           4      2.5\n",
      "user studies           1      NaN\n",
      "web/mobile dev         4      1.7\n"
     ]
    },
    {
     "data": {
      "image/png": "[encoded data removed]",
      "text/plain": [
       "<matplotlib.figure.Figure at 0x10a447210>"
      ]
     },
     "metadata": {},
     "output_type": "display_data"
    },
    {
     "name": "stdout",
     "output_type": "stream",
     "text": [
      "                    poll     pair\n",
      "algorithms             2      NaN\n",
      "brainstorming          4      2.8\n",
      "data analysis          5      NaN\n",
      "debugging              4        2\n",
      "dev tools              2  2.33333\n",
      "feedback               4  4.66667\n",
      "general tech           3        1\n",
      "grants                 2    4.125\n",
      "interaction design     3  3.66667\n",
      "needfinding            3      NaN\n",
      "pair programming       4        1\n",
      "paper writing          4      NaN\n",
      "prototype design     NaN     2.25\n",
      "prototype testing      4        2\n",
      "recruiting             2      NaN\n",
      "related work           1        4\n",
      "research direction     4  3.66667\n",
      "study design           1      3.5\n",
      "system architecture    2      NaN\n",
      "ui/ux design           4      3.4\n",
      "user studies           1      NaN\n",
      "web/mobile dev         4  2.41667\n"
     ]
    },
    {
     "data": {
      "image/png": "[encoded data removed]",
      "text/plain": [
       "<matplotlib.figure.Figure at 0x10a492d50>"
      ]
     },
     "metadata": {},
     "output_type": "display_data"
    },
    {
     "name": "stdout",
     "output_type": "stream",
     "text": [
      "                    poll pair\n",
      "algorithms             2  NaN\n",
      "brainstorming          4  NaN\n",
      "data analysis          5  NaN\n",
      "debugging              4  NaN\n",
      "dev tools              2  NaN\n",
      "feedback               4  NaN\n",
      "general tech           3  NaN\n",
      "grants                 2  NaN\n",
      "interaction design     3  NaN\n",
      "needfinding            3  NaN\n",
      "pair programming       4  NaN\n",
      "paper writing          4  NaN\n",
      "prototype testing      4  NaN\n",
      "recruiting             2  NaN\n",
      "related work           1  NaN\n",
      "research direction     4  NaN\n",
      "study design           1  NaN\n",
      "system architecture    2  NaN\n",
      "ui/ux design           4  NaN\n",
      "user studies           1  NaN\n",
      "web/mobile dev         4  NaN\n"
     ]
    },
    {
     "data": {
      "image/png": "[encoded data removed]",
      "text/plain": [
       "<matplotlib.figure.Figure at 0x10a73a210>"
      ]
     },
     "metadata": {},
     "output_type": "display_data"
    },
    {
     "name": "stdout",
     "output_type": "stream",
     "text": [
      "                    poll     pair\n",
      "algorithms             2        4\n",
      "brainstorming          4      3.5\n",
      "data analysis          5        4\n",
      "debugging              4        2\n",
      "dev tools              2        3\n",
      "feedback               4      2.8\n",
      "general tech           3        5\n",
      "grants                 2  3.13333\n",
      "interaction design     3        2\n",
      "needfinding            3      NaN\n",
      "pair programming       4        5\n",
      "paper writing          4      NaN\n",
      "prototype design     NaN  3.28571\n",
      "prototype testing      4  2.78571\n",
      "recruiting             2      NaN\n",
      "related work           1        3\n",
      "research direction     4  3.42857\n",
      "study design           1  3.42857\n",
      "system architecture    2      NaN\n",
      "ui/ux design           4        3\n",
      "user studies           1      NaN\n",
      "web/mobile dev         4  3.16667\n"
     ]
    },
    {
     "data": {
      "image/png": "[encoded data removed]",
      "text/plain": [
       "<matplotlib.figure.Figure at 0x10a445550>"
      ]
     },
     "metadata": {},
     "output_type": "display_data"
    },
    {
     "name": "stdout",
     "output_type": "stream",
     "text": [
      "                    poll pair\n",
      "algorithms             2  NaN\n",
      "brainstorming          4  NaN\n",
      "data analysis          5  NaN\n",
      "debugging              4  NaN\n",
      "dev tools              2  NaN\n",
      "feedback               4  NaN\n",
      "general tech           3  NaN\n",
      "grants                 2  NaN\n",
      "interaction design     3  NaN\n",
      "needfinding            3  NaN\n",
      "pair programming       4  NaN\n",
      "paper writing          4  NaN\n",
      "prototype testing      4  NaN\n",
      "recruiting             2  NaN\n",
      "related work           1  NaN\n",
      "research direction     4  NaN\n",
      "study design           1  NaN\n",
      "system architecture    2  NaN\n",
      "ui/ux design           4  NaN\n",
      "user studies           1  NaN\n",
      "web/mobile dev         4  NaN\n"
     ]
    },
    {
     "data": {
      "image/png": "[encoded data removed]",
      "text/plain": [
       "<matplotlib.figure.Figure at 0x10a3b2290>"
      ]
     },
     "metadata": {},
     "output_type": "display_data"
    },
    {
     "name": "stdout",
     "output_type": "stream",
     "text": [
      "                    poll     pair\n",
      "algorithms             2        2\n",
      "architecture         NaN        4\n",
      "brainstorming          4     2.75\n",
      "data analysis          5        2\n",
      "debugging              4      NaN\n",
      "dev tools              2      2.5\n",
      "feedback               4        3\n",
      "general tech           3        3\n",
      "grants                 2  3.33333\n",
      "interaction design     3        3\n",
      "needfinding            3      NaN\n",
      "pair programming       4      NaN\n",
      "paper writing          4      NaN\n",
      "prototype design     NaN        3\n",
      "prototype testing      4     2.75\n",
      "recruiting             2      NaN\n",
      "related work           1      NaN\n",
      "research direction     4  2.84615\n",
      "study design           1      3.4\n",
      "system architecture    2      NaN\n",
      "ui/ux design           4        3\n",
      "user studies           1      NaN\n",
      "web/mobile dev         4  3.18519\n"
     ]
    },
    {
     "data": {
      "image/png": "[encoded data removed]",
      "text/plain": [
       "<matplotlib.figure.Figure at 0x10a884f50>"
      ]
     },
     "metadata": {},
     "output_type": "display_data"
    },
    {
     "name": "stdout",
     "output_type": "stream",
     "text": [
      "                    poll     pair\n",
      "algorithms             2        1\n",
      "architecture         NaN        4\n",
      "brainstorming          4     2.75\n",
      "data analysis          5        1\n",
      "debugging              4        1\n",
      "dev tools              2  2.28571\n",
      "feedback               4  3.33333\n",
      "general tech           3        1\n",
      "grants                 2  2.53846\n",
      "interaction design     3  3.33333\n",
      "needfinding            3      NaN\n",
      "pair programming       4        2\n",
      "paper writing          4      NaN\n",
      "prototype design     NaN        4\n",
      "prototype testing      4  3.63636\n",
      "recruiting             2      NaN\n",
      "related work           1        4\n",
      "research direction     4      2.9\n",
      "study design           1      3.5\n",
      "system architecture    2      NaN\n",
      "ui/ux design           4  3.66667\n",
      "user studies           1      NaN\n",
      "web/mobile dev         4     2.55\n"
     ]
    },
    {
     "data": {
      "image/png": "[encoded data removed]",
      "text/plain": [
       "<matplotlib.figure.Figure at 0x10963d910>"
      ]
     },
     "metadata": {},
     "output_type": "display_data"
    },
    {
     "name": "stdout",
     "output_type": "stream",
     "text": [
      "                    poll     pair\n",
      "algorithms             2        3\n",
      "brainstorming          4        4\n",
      "data analysis          5        3\n",
      "debugging              4        1\n",
      "dev tools              2  2.83333\n",
      "feedback               4      4.2\n",
      "general tech           3        5\n",
      "grants                 2  3.30769\n",
      "interaction design     3        4\n",
      "needfinding            3      NaN\n",
      "pair programming       4        2\n",
      "paper writing          4      NaN\n",
      "prototype design     NaN  3.66667\n",
      "prototype testing      4  3.53846\n",
      "recruiting             2      NaN\n",
      "related work           1        4\n",
      "research direction     4  3.58333\n",
      "study design           1        4\n",
      "system architecture    2      NaN\n",
      "ui/ux design           4     3.65\n",
      "user studies           1      NaN\n",
      "web/mobile dev         4  2.85714\n"
     ]
    },
    {
     "data": {
      "image/png": "[encoded data removed]",
      "text/plain": [
       "<matplotlib.figure.Figure at 0x109cfca50>"
      ]
     },
     "metadata": {},
     "output_type": "display_data"
    },
    {
     "name": "stdout",
     "output_type": "stream",
     "text": [
      "                    poll     pair\n",
      "algorithms             2        1\n",
      "brainstorming          4  2.85714\n",
      "data analysis          5        1\n",
      "debugging              4        1\n",
      "dev tools              2     2.25\n",
      "feedback               4        3\n",
      "general tech           3  3.33333\n",
      "grants                 2  2.22222\n",
      "interaction design     3  4.33333\n",
      "needfinding            3      NaN\n",
      "pair programming       4        1\n",
      "paper writing          4      NaN\n",
      "prototype design     NaN  3.66667\n",
      "prototype testing      4  3.18182\n",
      "recruiting             2      NaN\n",
      "related work           1      NaN\n",
      "research direction     4  3.07692\n",
      "study design           1        3\n",
      "system architecture    2      NaN\n",
      "ui/ux design           4        3\n",
      "user studies           1      NaN\n",
      "web/mobile dev         4      2.2\n"
     ]
    },
    {
     "data": {
      "image/png": "[encoded data removed]",
      "text/plain": [
       "<matplotlib.figure.Figure at 0x10a5b85d0>"
      ]
     },
     "metadata": {},
     "output_type": "display_data"
    },
    {
     "name": "stdout",
     "output_type": "stream",
     "text": [
      "                    poll     pair\n",
      "algorithms             2        2\n",
      "brainstorming          4        3\n",
      "data analysis          5        2\n",
      "debugging              4        5\n",
      "dev tools              2      2.6\n",
      "feedback               4     3.75\n",
      "general tech           3        3\n",
      "grants                 2  2.88889\n",
      "interaction design     3        5\n",
      "needfinding            3      NaN\n",
      "pair programming       4        1\n",
      "paper writing          4      NaN\n",
      "prototype design     NaN      3.5\n",
      "prototype testing      4     3.25\n",
      "recruiting             2      NaN\n",
      "related work           1        4\n",
      "research direction     4  3.18182\n",
      "study design           1  2.16667\n",
      "system architecture    2      NaN\n",
      "ui/ux design           4  3.35714\n",
      "user studies           1      NaN\n",
      "web/mobile dev         4  2.28571\n"
     ]
    },
    {
     "data": {
      "image/png": "[encoded data removed]",
      "text/plain": [
       "<matplotlib.figure.Figure at 0x10ab35250>"
      ]
     },
     "metadata": {},
     "output_type": "display_data"
    }
   ],
   "source": [
    "userIds = list(skill_df['userid'])\n",
    "lower_skill_df = skill_df\n",
    "lower_skill_df.columns = map(str.lower, lower_skill_df.columns)\n",
    "\n",
    "for user in userIds:\n",
    "    curr_row = lower_skill_df[lower_skill_df[\"userid\"] == userId]\n",
    "    user_scores = get_skill_scores(user, expanded_df).T\n",
    "    frames = [curr_row, user_scores]\n",
    "    res = pd.concat(frames)\n",
    "    res = res.T\n",
    "    res.columns = [\"poll\", \"pair\"]\n",
    "    res = res.drop([\"timestamp\", \"userid\", \"how many quarters have you been in dtr?\", \"what is your current status in university?\", \"what's your name?\"])\n",
    "#     plt.scatter(res.poll, res.pair, xlim=(1, 5), ylim=(1, 5))\n",
    "    res.plot(kind='scatter', x='poll', y='pair', xlim=(1, 5), ylim=(1, 5))\n",
    "    print res\n",
    "    plt.show()"
   ]
  },
  {
   "cell_type": "code",
   "execution_count": null,
   "metadata": {
    "collapsed": true
   },
   "outputs": [],
   "source": []
  },
  {
   "cell_type": "code",
   "execution_count": null,
   "metadata": {
    "collapsed": true
   },
   "outputs": [],
   "source": []
  }
 ],
 "metadata": {
  "kernelspec": {
   "display_name": "Python 2",
   "language": "python",
   "name": "python2"
  },
  "language_info": {
   "codemirror_mode": {
    "name": "ipython",
    "version": 2
   },
   "file_extension": ".py",
   "mimetype": "text/x-python",
   "name": "python",
   "nbconvert_exporter": "python",
   "pygments_lexer": "ipython2",
   "version": "2.7.13"
  }
 },
 "nbformat": 4,
 "nbformat_minor": 2
}
