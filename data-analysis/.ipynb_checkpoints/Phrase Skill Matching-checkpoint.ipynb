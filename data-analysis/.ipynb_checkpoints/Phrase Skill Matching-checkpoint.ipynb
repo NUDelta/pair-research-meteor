{
 "cells": [
  {
   "cell_type": "code",
   "execution_count": 1,
   "metadata": {
    "collapsed": true
   },
   "outputs": [],
   "source": [
    "import re\n",
    "import json\n",
    "import numpy as np\n",
    "import pandas as pd\n",
    "\n",
    "df = pd.read_json(path_or_buf=\"output/user_skill_graph-TEST.json\", orient=\"records\")\n",
    "with open(\"pair-app-data/skill-words.json\") as input_file:\n",
    "    words = json.load(input_file)\n",
    "    \n",
    "with open(\"pair-app-data/groups.json\") as input_file:\n",
    "    people = json.load(input_file)\n",
    "\n",
    "df['categories'] = df['categories'].apply(tuple)\n",
    "new_rows = []\n",
    "for index, row in df.iterrows():\n",
    "    new_rows.extend([[row['helperId'], row['timestamp'], row['task'][0], nn, row['value']] for nn in row.categories])\n",
    "expanded_df = pd.DataFrame(new_rows,columns=['helperId', 'timestamp', 'task', 'category', 'value'])\n",
    "\n",
    "words = words['categories']"
   ]
  },
  {
   "cell_type": "code",
   "execution_count": 1,
   "metadata": {
    "collapsed": true
   },
   "outputs": [],
   "source": [
    "def parse_phrase_for_categories(input_phrase, category_list):\n",
    "    matching_categories = []\n",
    "    input_phrase = input_phrase.lower()\n",
    "    \n",
    "    for category_key, keyword_list in category_list.items():\n",
    "        for keyword in keyword_list:\n",
    "            keyword = keyword.lower()\n",
    "            \n",
    "            if re.search(r'' + keyword, input_phrase):\n",
    "                matching_categories.append(category_key)\n",
    "                \n",
    "    return list(set(matching_categories))\n",
    "            \n",
    "    \n",
    "def get_top_in_category(category, n, skill_dataframe):\n",
    "    current_df = skill_dataframe.loc[skill_dataframe['category'] == category]\n",
    "    top_users_df = current_df.groupby('helperId').mean().sort_values(by='value', ascending=False)\n",
    "    return top_users_df.iloc[:min(n, top_users_df.shape[0])]\n",
    "\n",
    "def parse_phrase_for_people(phrase, n, category_list, skill_dataframe):\n",
    "    people_category_dictionary = {}\n",
    "    matching_categories = parse_phrase_for_categories(phrase, category_list)\n",
    "    for category in matching_categories:\n",
    "        top_people = get_top_in_category(category, n, skill_dataframe)\n",
    "        people_category_dictionary[category] = top_people\n",
    "        \n",
    "def look_up_person(userId, group):\n",
    "    print userId\n",
    "        \n",
    "    return people_category_dictionary"
   ]
  },
  {
   "cell_type": "code",
   "execution_count": 3,
   "metadata": {},
   "outputs": [
    {
     "name": "stdout",
     "output_type": "stream",
     "text": [
      "[u'debugging', u'web/mobile dev', u'dev tools']\n"
     ]
    }
   ],
   "source": [
    "task_categories = parse_phrase_for_categories(\"debug our meteor app\", words)\n",
    "print task_categories"
   ]
  },
  {
   "cell_type": "code",
   "execution_count": 4,
   "metadata": {},
   "outputs": [
    {
     "name": "stdout",
     "output_type": "stream",
     "text": [
      "                   value\n",
      "helperId                \n",
      "aupdNzYu8WmNEi4e5      5\n",
      "u6DrqFSvdZnWDgjz8      5\n",
      "6rZbYn3cbQ9KNLRM5      4\n",
      "WenRzs2SSx8YmGYsF      3\n",
      "iEHKgJBH7hNSroEjw      3\n"
     ]
    }
   ],
   "source": [
    "top_users = get_top_in_category('debugging', 5, expanded_df)\n",
    "print top_users"
   ]
  },
  {
   "cell_type": "code",
   "execution_count": 6,
   "metadata": {},
   "outputs": [
    {
     "name": "stdout",
     "output_type": "stream",
     "text": [
      "{u'study design':                       value\n",
      "helperId                   \n",
      "yLoAP6fd9WbQQPyhb  4.000000\n",
      "dZ23LYG2G42mY3NAf  3.750000\n",
      "9zFPYRJQ5KnGTcnMr  3.500000\n",
      "afyZT6q2HepoCS76m  3.500000\n",
      "N3LsK5NJeKm8PkBx8  3.428571}\n"
     ]
    }
   ],
   "source": [
    "result = parse_phrase_for_people(\"revise my study design\", 5, words, expanded_df)\n",
    "print result"
   ]
  },
  {
   "cell_type": "code",
   "execution_count": 2,
   "metadata": {},
   "outputs": [
    {
     "ename": "NameError",
     "evalue": "name 'lookup_person' is not defined",
     "output_type": "error",
     "traceback": [
      "\u001b[0;31m---------------------------------------------------------------------------\u001b[0m",
      "\u001b[0;31mNameError\u001b[0m                                 Traceback (most recent call last)",
      "\u001b[0;32m<ipython-input-2-926a19db4278>\u001b[0m in \u001b[0;36m<module>\u001b[0;34m()\u001b[0m\n\u001b[0;32m----> 1\u001b[0;31m \u001b[0mlookup_person\u001b[0m\u001b[0;34m(\u001b[0m\u001b[0;34m\"yLoAP6fd9WbQQPyhb\"\u001b[0m\u001b[0;34m)\u001b[0m\u001b[0;34m\u001b[0m\u001b[0m\n\u001b[0m",
      "\u001b[0;31mNameError\u001b[0m: name 'lookup_person' is not defined"
     ]
    }
   ],
   "source": [
    "look_up_person(\"yLoAP6fd9WbQQPyhb\")"
   ]
  },
  {
   "cell_type": "code",
   "execution_count": null,
   "metadata": {
    "collapsed": true
   },
   "outputs": [],
   "source": []
  }
 ],
 "metadata": {
  "kernelspec": {
   "display_name": "Python 2",
   "language": "python",
   "name": "python2"
  },
  "language_info": {
   "codemirror_mode": {
    "name": "ipython",
    "version": 2
   },
   "file_extension": ".py",
   "mimetype": "text/x-python",
   "name": "python",
   "nbconvert_exporter": "python",
   "pygments_lexer": "ipython2",
   "version": "2.7.13"
  }
 },
 "nbformat": 4,
 "nbformat_minor": 2
}
