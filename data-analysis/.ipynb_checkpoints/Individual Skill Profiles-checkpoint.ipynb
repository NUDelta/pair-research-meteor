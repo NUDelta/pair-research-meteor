{
 "cells": [
  {
   "cell_type": "markdown",
   "metadata": {},
   "source": [
    "# Individual Skill Ratings"
   ]
  },
  {
   "cell_type": "code",
   "execution_count": 2,
   "metadata": {
    "collapsed": true
   },
   "outputs": [],
   "source": [
    "import re\n",
    "import json\n",
    "import numpy as np\n",
    "import pandas as pd\n",
    "\n",
    "df = pd.read_json(path_or_buf=\"output/user_skill_graph-TEST.json\", orient=\"records\")\n",
    "with open(\"pair-app-data/skill-words.json\") as input_file:\n",
    "    words = json.load(input_file)\n",
    "\n",
    "df['categories'] = df['categories'].apply(tuple)\n",
    "new_rows = []\n",
    "for index, row in df.iterrows():\n",
    "    new_rows.extend([[row['helperId'], row['timestamp'], row['task'][0], nn, row['value']] for nn in row.categories])\n",
    "expanded_df = pd.DataFrame(new_rows,columns=['helperId', 'timestamp', 'task', 'category', 'value'])"
   ]
  },
  {
   "cell_type": "code",
   "execution_count": 14,
   "metadata": {
    "collapsed": true
   },
   "outputs": [],
   "source": [
    "def grab_user_responses(userId, pair_responses):\n",
    "    user_responses = pair_responses[pair_responses['helperId'] == userId]\n",
    "    return user_responses\n",
    "\n",
    "def calculate_skill_scores(user_response_df):\n",
    "    return user_response_df.groupby('category').mean()"
   ]
  },
  {
   "cell_type": "code",
   "execution_count": 23,
   "metadata": {},
   "outputs": [
    {
     "name": "stdout",
     "output_type": "stream",
     "text": [
      "                       value\n",
      "category                    \n",
      "debugging           5.000000\n",
      "brainstorming       4.000000\n",
      "feedback            4.000000\n",
      "interaction design  4.000000\n",
      "general             3.500000\n",
      "prototype testing   3.500000\n",
      "prototype design    3.333333\n",
      "research direction  2.800000\n",
      "study design        2.500000\n",
      "ui/ux design        2.500000\n",
      "algorithms          2.000000\n",
      "data analysis       2.000000\n",
      "web/mobile dev      1.700000\n",
      "dev tools           1.666667\n",
      "grants              1.000000\n"
     ]
    }
   ],
   "source": [
    "user_df = grab_user_responses(\"u6DrqFSvdZnWDgjz8\", expanded_df)\n",
    "skill_scores = calculate_skill_scores(user_df)\n",
    "print skill_scores.sort_values(by=\"value\", ascending=False)"
   ]
  },
  {
   "cell_type": "code",
   "execution_count": null,
   "metadata": {},
   "outputs": [],
   "source": []
  },
  {
   "cell_type": "code",
   "execution_count": null,
   "metadata": {
    "collapsed": true
   },
   "outputs": [],
   "source": []
  }
 ],
 "metadata": {
  "kernelspec": {
   "display_name": "Python 2",
   "language": "python",
   "name": "python2"
  },
  "language_info": {
   "codemirror_mode": {
    "name": "ipython",
    "version": 2
   },
   "file_extension": ".py",
   "mimetype": "text/x-python",
   "name": "python",
   "nbconvert_exporter": "python",
   "pygments_lexer": "ipython2",
   "version": "2.7.13"
  }
 },
 "nbformat": 4,
 "nbformat_minor": 2
}
